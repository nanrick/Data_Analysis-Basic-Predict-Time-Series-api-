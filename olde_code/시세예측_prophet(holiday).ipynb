{
 "cells": [
  {
   "cell_type": "code",
   "execution_count": 2,
   "metadata": {},
   "outputs": [],
   "source": [
    "# prophet 알고리즘 이용한 단일 시계열 예측 구현안\n",
    "# 특징 : holiday 옵션 이용한 특정 이벤트날(부동산 정책 발표일)을 포함한 예측안\n",
    "\n",
    "import pandas as pd\n",
    "import matplotlib.pyplot as plt\n",
    "%matplotlib inline"
   ]
  },
  {
   "cell_type": "code",
   "execution_count": 3,
   "metadata": {},
   "outputs": [],
   "source": [
    "idt = pd.read_csv(\"./DATA/aptaprice.csv\")\n",
    "jdt = pd.read_csv(\"./DATA/apta_jsprice.csv\")\n",
    "\n",
    "sdt = pd.read_csv(\"./DATA/aptsum_seoul.csv\")\n",
    "gdt = pd.read_csv(\"./DATA/aptsum_gg.csv\")"
   ]
  },
  {
   "cell_type": "code",
   "execution_count": 4,
   "metadata": {},
   "outputs": [],
   "source": [
    "idt = idt.drop([0])\n",
    "jdt = jdt.drop([0])"
   ]
  },
  {
   "cell_type": "code",
   "execution_count": 5,
   "metadata": {},
   "outputs": [],
   "source": [
    "idt[\"date\"] = pd.to_numeric(idt[\"date\"])\n",
    "jdt[\"date\"] = pd.to_numeric(jdt[\"date\"])\n",
    "sdt[\"date\"] = pd.to_numeric(sdt[\"date\"])\n",
    "gdt[\"date\"] = pd.to_numeric(gdt[\"date\"])"
   ]
  },
  {
   "cell_type": "code",
   "execution_count": 6,
   "metadata": {},
   "outputs": [],
   "source": [
    "# idt.index = idt[\"date\"]\n",
    "# jdt.index = jdt[\"date\"]"
   ]
  },
  {
   "cell_type": "code",
   "execution_count": 7,
   "metadata": {},
   "outputs": [],
   "source": [
    "sdt = sdt.drop([\"Unnamed: 0\"], axis = 1)\n",
    "# sdt.index = sdt[\"date\"]"
   ]
  },
  {
   "cell_type": "code",
   "execution_count": 8,
   "metadata": {},
   "outputs": [],
   "source": [
    "gdt = gdt.drop([\"Unnamed: 0\"], axis = 1)\n",
    "# gdt.index = gdt[\"date\"]"
   ]
  },
  {
   "cell_type": "code",
   "execution_count": 9,
   "metadata": {},
   "outputs": [],
   "source": [
    "jdt = jdt.rename(columns={'apt_sum':'js_price'})"
   ]
  },
  {
   "cell_type": "code",
   "execution_count": 10,
   "metadata": {
    "scrolled": true
   },
   "outputs": [
    {
     "data": {
      "text/html": [
       "<div>\n",
       "<style scoped>\n",
       "    .dataframe tbody tr th:only-of-type {\n",
       "        vertical-align: middle;\n",
       "    }\n",
       "\n",
       "    .dataframe tbody tr th {\n",
       "        vertical-align: top;\n",
       "    }\n",
       "\n",
       "    .dataframe thead th {\n",
       "        text-align: right;\n",
       "    }\n",
       "</style>\n",
       "<table border=\"1\" class=\"dataframe\">\n",
       "  <thead>\n",
       "    <tr style=\"text-align: right;\">\n",
       "      <th></th>\n",
       "      <th>date</th>\n",
       "      <th>apt_sum</th>\n",
       "    </tr>\n",
       "  </thead>\n",
       "  <tbody>\n",
       "    <tr>\n",
       "      <td>1</td>\n",
       "      <td>19970115</td>\n",
       "      <td>1.306520e+10</td>\n",
       "    </tr>\n",
       "    <tr>\n",
       "      <td>2</td>\n",
       "      <td>19970215</td>\n",
       "      <td>1.322423e+10</td>\n",
       "    </tr>\n",
       "    <tr>\n",
       "      <td>3</td>\n",
       "      <td>19970315</td>\n",
       "      <td>1.335122e+10</td>\n",
       "    </tr>\n",
       "    <tr>\n",
       "      <td>4</td>\n",
       "      <td>19970415</td>\n",
       "      <td>1.344120e+10</td>\n",
       "    </tr>\n",
       "    <tr>\n",
       "      <td>5</td>\n",
       "      <td>19970515</td>\n",
       "      <td>1.359595e+10</td>\n",
       "    </tr>\n",
       "    <tr>\n",
       "      <td>...</td>\n",
       "      <td>...</td>\n",
       "      <td>...</td>\n",
       "    </tr>\n",
       "    <tr>\n",
       "      <td>1069</td>\n",
       "      <td>20190823</td>\n",
       "      <td>3.049338e+11</td>\n",
       "    </tr>\n",
       "    <tr>\n",
       "      <td>1070</td>\n",
       "      <td>20190830</td>\n",
       "      <td>3.051046e+11</td>\n",
       "    </tr>\n",
       "    <tr>\n",
       "      <td>1071</td>\n",
       "      <td>20190906</td>\n",
       "      <td>3.052011e+11</td>\n",
       "    </tr>\n",
       "    <tr>\n",
       "      <td>1072</td>\n",
       "      <td>20190920</td>\n",
       "      <td>3.060269e+11</td>\n",
       "    </tr>\n",
       "    <tr>\n",
       "      <td>1073</td>\n",
       "      <td>20190927</td>\n",
       "      <td>3.064525e+11</td>\n",
       "    </tr>\n",
       "  </tbody>\n",
       "</table>\n",
       "<p>1073 rows × 2 columns</p>\n",
       "</div>"
      ],
      "text/plain": [
       "          date       apt_sum\n",
       "1     19970115  1.306520e+10\n",
       "2     19970215  1.322423e+10\n",
       "3     19970315  1.335122e+10\n",
       "4     19970415  1.344120e+10\n",
       "5     19970515  1.359595e+10\n",
       "...        ...           ...\n",
       "1069  20190823  3.049338e+11\n",
       "1070  20190830  3.051046e+11\n",
       "1071  20190906  3.052011e+11\n",
       "1072  20190920  3.060269e+11\n",
       "1073  20190927  3.064525e+11\n",
       "\n",
       "[1073 rows x 2 columns]"
      ]
     },
     "execution_count": 10,
     "metadata": {},
     "output_type": "execute_result"
    }
   ],
   "source": [
    "idt"
   ]
  },
  {
   "cell_type": "code",
   "execution_count": 11,
   "metadata": {
    "scrolled": true
   },
   "outputs": [
    {
     "data": {
      "text/html": [
       "<div>\n",
       "<style scoped>\n",
       "    .dataframe tbody tr th:only-of-type {\n",
       "        vertical-align: middle;\n",
       "    }\n",
       "\n",
       "    .dataframe tbody tr th {\n",
       "        vertical-align: top;\n",
       "    }\n",
       "\n",
       "    .dataframe thead th {\n",
       "        text-align: right;\n",
       "    }\n",
       "</style>\n",
       "<table border=\"1\" class=\"dataframe\">\n",
       "  <thead>\n",
       "    <tr style=\"text-align: right;\">\n",
       "      <th></th>\n",
       "      <th>date</th>\n",
       "      <th>js_price</th>\n",
       "    </tr>\n",
       "  </thead>\n",
       "  <tbody>\n",
       "    <tr>\n",
       "      <td>1</td>\n",
       "      <td>19970115</td>\n",
       "      <td>6.522966e+09</td>\n",
       "    </tr>\n",
       "    <tr>\n",
       "      <td>2</td>\n",
       "      <td>19970215</td>\n",
       "      <td>6.579288e+09</td>\n",
       "    </tr>\n",
       "    <tr>\n",
       "      <td>3</td>\n",
       "      <td>19970315</td>\n",
       "      <td>6.643742e+09</td>\n",
       "    </tr>\n",
       "    <tr>\n",
       "      <td>4</td>\n",
       "      <td>19970415</td>\n",
       "      <td>6.673002e+09</td>\n",
       "    </tr>\n",
       "    <tr>\n",
       "      <td>5</td>\n",
       "      <td>19970515</td>\n",
       "      <td>6.719561e+09</td>\n",
       "    </tr>\n",
       "    <tr>\n",
       "      <td>...</td>\n",
       "      <td>...</td>\n",
       "      <td>...</td>\n",
       "    </tr>\n",
       "    <tr>\n",
       "      <td>1069</td>\n",
       "      <td>20190823</td>\n",
       "      <td>1.926593e+11</td>\n",
       "    </tr>\n",
       "    <tr>\n",
       "      <td>1070</td>\n",
       "      <td>20190830</td>\n",
       "      <td>1.927292e+11</td>\n",
       "    </tr>\n",
       "    <tr>\n",
       "      <td>1071</td>\n",
       "      <td>20190906</td>\n",
       "      <td>1.927708e+11</td>\n",
       "    </tr>\n",
       "    <tr>\n",
       "      <td>1072</td>\n",
       "      <td>20190920</td>\n",
       "      <td>1.928744e+11</td>\n",
       "    </tr>\n",
       "    <tr>\n",
       "      <td>1073</td>\n",
       "      <td>20190927</td>\n",
       "      <td>1.930504e+11</td>\n",
       "    </tr>\n",
       "  </tbody>\n",
       "</table>\n",
       "<p>1073 rows × 2 columns</p>\n",
       "</div>"
      ],
      "text/plain": [
       "          date      js_price\n",
       "1     19970115  6.522966e+09\n",
       "2     19970215  6.579288e+09\n",
       "3     19970315  6.643742e+09\n",
       "4     19970415  6.673002e+09\n",
       "5     19970515  6.719561e+09\n",
       "...        ...           ...\n",
       "1069  20190823  1.926593e+11\n",
       "1070  20190830  1.927292e+11\n",
       "1071  20190906  1.927708e+11\n",
       "1072  20190920  1.928744e+11\n",
       "1073  20190927  1.930504e+11\n",
       "\n",
       "[1073 rows x 2 columns]"
      ]
     },
     "execution_count": 11,
     "metadata": {},
     "output_type": "execute_result"
    }
   ],
   "source": [
    "jdt"
   ]
  },
  {
   "cell_type": "code",
   "execution_count": 12,
   "metadata": {},
   "outputs": [
    {
     "data": {
      "text/html": [
       "<div>\n",
       "<style scoped>\n",
       "    .dataframe tbody tr th:only-of-type {\n",
       "        vertical-align: middle;\n",
       "    }\n",
       "\n",
       "    .dataframe tbody tr th {\n",
       "        vertical-align: top;\n",
       "    }\n",
       "\n",
       "    .dataframe thead th {\n",
       "        text-align: right;\n",
       "    }\n",
       "</style>\n",
       "<table border=\"1\" class=\"dataframe\">\n",
       "  <thead>\n",
       "    <tr style=\"text-align: right;\">\n",
       "      <th></th>\n",
       "      <th>date</th>\n",
       "      <th>apt_sum</th>\n",
       "      <th>js_price</th>\n",
       "    </tr>\n",
       "  </thead>\n",
       "  <tbody>\n",
       "    <tr>\n",
       "      <td>0</td>\n",
       "      <td>19970115</td>\n",
       "      <td>1.306520e+10</td>\n",
       "      <td>6.522966e+09</td>\n",
       "    </tr>\n",
       "    <tr>\n",
       "      <td>1</td>\n",
       "      <td>19970215</td>\n",
       "      <td>1.322423e+10</td>\n",
       "      <td>6.579288e+09</td>\n",
       "    </tr>\n",
       "    <tr>\n",
       "      <td>2</td>\n",
       "      <td>19970315</td>\n",
       "      <td>1.335122e+10</td>\n",
       "      <td>6.643742e+09</td>\n",
       "    </tr>\n",
       "    <tr>\n",
       "      <td>3</td>\n",
       "      <td>19970415</td>\n",
       "      <td>1.344120e+10</td>\n",
       "      <td>6.673002e+09</td>\n",
       "    </tr>\n",
       "    <tr>\n",
       "      <td>4</td>\n",
       "      <td>19970515</td>\n",
       "      <td>1.359595e+10</td>\n",
       "      <td>6.719561e+09</td>\n",
       "    </tr>\n",
       "  </tbody>\n",
       "</table>\n",
       "</div>"
      ],
      "text/plain": [
       "       date       apt_sum      js_price\n",
       "0  19970115  1.306520e+10  6.522966e+09\n",
       "1  19970215  1.322423e+10  6.579288e+09\n",
       "2  19970315  1.335122e+10  6.643742e+09\n",
       "3  19970415  1.344120e+10  6.673002e+09\n",
       "4  19970515  1.359595e+10  6.719561e+09"
      ]
     },
     "execution_count": 12,
     "metadata": {},
     "output_type": "execute_result"
    }
   ],
   "source": [
    "dt1 = pd.merge(idt, jdt)\n",
    "dt1.head()"
   ]
  },
  {
   "cell_type": "code",
   "execution_count": 13,
   "metadata": {},
   "outputs": [
    {
     "data": {
      "text/html": [
       "<div>\n",
       "<style scoped>\n",
       "    .dataframe tbody tr th:only-of-type {\n",
       "        vertical-align: middle;\n",
       "    }\n",
       "\n",
       "    .dataframe tbody tr th {\n",
       "        vertical-align: top;\n",
       "    }\n",
       "\n",
       "    .dataframe thead th {\n",
       "        text-align: right;\n",
       "    }\n",
       "</style>\n",
       "<table border=\"1\" class=\"dataframe\">\n",
       "  <thead>\n",
       "    <tr style=\"text-align: right;\">\n",
       "      <th></th>\n",
       "      <th>date</th>\n",
       "      <th>apt_sum</th>\n",
       "      <th>js_price</th>\n",
       "      <th>apt_sum_seoul</th>\n",
       "    </tr>\n",
       "  </thead>\n",
       "  <tbody>\n",
       "    <tr>\n",
       "      <td>0</td>\n",
       "      <td>19970115</td>\n",
       "      <td>1.306520e+10</td>\n",
       "      <td>6.522966e+09</td>\n",
       "      <td>6.843884e+09</td>\n",
       "    </tr>\n",
       "    <tr>\n",
       "      <td>1</td>\n",
       "      <td>19970215</td>\n",
       "      <td>1.322423e+10</td>\n",
       "      <td>6.579288e+09</td>\n",
       "      <td>6.910998e+09</td>\n",
       "    </tr>\n",
       "    <tr>\n",
       "      <td>2</td>\n",
       "      <td>19970315</td>\n",
       "      <td>1.335122e+10</td>\n",
       "      <td>6.643742e+09</td>\n",
       "      <td>6.921145e+09</td>\n",
       "    </tr>\n",
       "    <tr>\n",
       "      <td>3</td>\n",
       "      <td>19970415</td>\n",
       "      <td>1.344120e+10</td>\n",
       "      <td>6.673002e+09</td>\n",
       "      <td>6.978939e+09</td>\n",
       "    </tr>\n",
       "    <tr>\n",
       "      <td>4</td>\n",
       "      <td>19970515</td>\n",
       "      <td>1.359595e+10</td>\n",
       "      <td>6.719561e+09</td>\n",
       "      <td>7.105578e+09</td>\n",
       "    </tr>\n",
       "  </tbody>\n",
       "</table>\n",
       "</div>"
      ],
      "text/plain": [
       "       date       apt_sum      js_price  apt_sum_seoul\n",
       "0  19970115  1.306520e+10  6.522966e+09   6.843884e+09\n",
       "1  19970215  1.322423e+10  6.579288e+09   6.910998e+09\n",
       "2  19970315  1.335122e+10  6.643742e+09   6.921145e+09\n",
       "3  19970415  1.344120e+10  6.673002e+09   6.978939e+09\n",
       "4  19970515  1.359595e+10  6.719561e+09   7.105578e+09"
      ]
     },
     "execution_count": 13,
     "metadata": {},
     "output_type": "execute_result"
    }
   ],
   "source": [
    "dt2 = pd.merge(dt1,sdt)\n",
    "dt2.head()"
   ]
  },
  {
   "cell_type": "code",
   "execution_count": 14,
   "metadata": {},
   "outputs": [
    {
     "data": {
      "text/html": [
       "<div>\n",
       "<style scoped>\n",
       "    .dataframe tbody tr th:only-of-type {\n",
       "        vertical-align: middle;\n",
       "    }\n",
       "\n",
       "    .dataframe tbody tr th {\n",
       "        vertical-align: top;\n",
       "    }\n",
       "\n",
       "    .dataframe thead th {\n",
       "        text-align: right;\n",
       "    }\n",
       "</style>\n",
       "<table border=\"1\" class=\"dataframe\">\n",
       "  <thead>\n",
       "    <tr style=\"text-align: right;\">\n",
       "      <th></th>\n",
       "      <th>date</th>\n",
       "      <th>apt_sum</th>\n",
       "      <th>js_price</th>\n",
       "      <th>apt_sum_seoul</th>\n",
       "      <th>apt_sum_gg</th>\n",
       "    </tr>\n",
       "  </thead>\n",
       "  <tbody>\n",
       "    <tr>\n",
       "      <td>0</td>\n",
       "      <td>19970115</td>\n",
       "      <td>1.306520e+10</td>\n",
       "      <td>6.522966e+09</td>\n",
       "      <td>6.843884e+09</td>\n",
       "      <td>4.413718e+09</td>\n",
       "    </tr>\n",
       "    <tr>\n",
       "      <td>1</td>\n",
       "      <td>19970215</td>\n",
       "      <td>1.322423e+10</td>\n",
       "      <td>6.579288e+09</td>\n",
       "      <td>6.910998e+09</td>\n",
       "      <td>4.486885e+09</td>\n",
       "    </tr>\n",
       "    <tr>\n",
       "      <td>2</td>\n",
       "      <td>19970315</td>\n",
       "      <td>1.335122e+10</td>\n",
       "      <td>6.643742e+09</td>\n",
       "      <td>6.921145e+09</td>\n",
       "      <td>4.545453e+09</td>\n",
       "    </tr>\n",
       "    <tr>\n",
       "      <td>3</td>\n",
       "      <td>19970415</td>\n",
       "      <td>1.344120e+10</td>\n",
       "      <td>6.673002e+09</td>\n",
       "      <td>6.978939e+09</td>\n",
       "      <td>4.567198e+09</td>\n",
       "    </tr>\n",
       "    <tr>\n",
       "      <td>4</td>\n",
       "      <td>19970515</td>\n",
       "      <td>1.359595e+10</td>\n",
       "      <td>6.719561e+09</td>\n",
       "      <td>7.105578e+09</td>\n",
       "      <td>4.581848e+09</td>\n",
       "    </tr>\n",
       "  </tbody>\n",
       "</table>\n",
       "</div>"
      ],
      "text/plain": [
       "       date       apt_sum      js_price  apt_sum_seoul    apt_sum_gg\n",
       "0  19970115  1.306520e+10  6.522966e+09   6.843884e+09  4.413718e+09\n",
       "1  19970215  1.322423e+10  6.579288e+09   6.910998e+09  4.486885e+09\n",
       "2  19970315  1.335122e+10  6.643742e+09   6.921145e+09  4.545453e+09\n",
       "3  19970415  1.344120e+10  6.673002e+09   6.978939e+09  4.567198e+09\n",
       "4  19970515  1.359595e+10  6.719561e+09   7.105578e+09  4.581848e+09"
      ]
     },
     "execution_count": 14,
     "metadata": {},
     "output_type": "execute_result"
    }
   ],
   "source": [
    "dt3 = pd.merge(dt2,gdt)\n",
    "dt3.head()"
   ]
  },
  {
   "cell_type": "code",
   "execution_count": 15,
   "metadata": {},
   "outputs": [
    {
     "data": {
      "text/html": [
       "<div>\n",
       "<style scoped>\n",
       "    .dataframe tbody tr th:only-of-type {\n",
       "        vertical-align: middle;\n",
       "    }\n",
       "\n",
       "    .dataframe tbody tr th {\n",
       "        vertical-align: top;\n",
       "    }\n",
       "\n",
       "    .dataframe thead th {\n",
       "        text-align: right;\n",
       "    }\n",
       "</style>\n",
       "<table border=\"1\" class=\"dataframe\">\n",
       "  <thead>\n",
       "    <tr style=\"text-align: right;\">\n",
       "      <th></th>\n",
       "      <th>date</th>\n",
       "      <th>apt_sum</th>\n",
       "      <th>js_price</th>\n",
       "      <th>apt_sum_seoul</th>\n",
       "      <th>apt_sum_gg</th>\n",
       "    </tr>\n",
       "  </thead>\n",
       "  <tbody>\n",
       "    <tr>\n",
       "      <td>1068</td>\n",
       "      <td>20190823</td>\n",
       "      <td>3.049338e+11</td>\n",
       "      <td>1.926593e+11</td>\n",
       "      <td>1.147008e+11</td>\n",
       "      <td>8.644733e+10</td>\n",
       "    </tr>\n",
       "    <tr>\n",
       "      <td>1069</td>\n",
       "      <td>20190830</td>\n",
       "      <td>3.051046e+11</td>\n",
       "      <td>1.927292e+11</td>\n",
       "      <td>1.148124e+11</td>\n",
       "      <td>8.646686e+10</td>\n",
       "    </tr>\n",
       "    <tr>\n",
       "      <td>1070</td>\n",
       "      <td>20190906</td>\n",
       "      <td>3.052011e+11</td>\n",
       "      <td>1.927708e+11</td>\n",
       "      <td>1.149041e+11</td>\n",
       "      <td>8.649957e+10</td>\n",
       "    </tr>\n",
       "    <tr>\n",
       "      <td>1071</td>\n",
       "      <td>20190920</td>\n",
       "      <td>3.060269e+11</td>\n",
       "      <td>1.928744e+11</td>\n",
       "      <td>1.157184e+11</td>\n",
       "      <td>8.652302e+10</td>\n",
       "    </tr>\n",
       "    <tr>\n",
       "      <td>1072</td>\n",
       "      <td>20190927</td>\n",
       "      <td>3.064525e+11</td>\n",
       "      <td>1.930504e+11</td>\n",
       "      <td>1.158513e+11</td>\n",
       "      <td>8.654101e+10</td>\n",
       "    </tr>\n",
       "  </tbody>\n",
       "</table>\n",
       "</div>"
      ],
      "text/plain": [
       "          date       apt_sum      js_price  apt_sum_seoul    apt_sum_gg\n",
       "1068  20190823  3.049338e+11  1.926593e+11   1.147008e+11  8.644733e+10\n",
       "1069  20190830  3.051046e+11  1.927292e+11   1.148124e+11  8.646686e+10\n",
       "1070  20190906  3.052011e+11  1.927708e+11   1.149041e+11  8.649957e+10\n",
       "1071  20190920  3.060269e+11  1.928744e+11   1.157184e+11  8.652302e+10\n",
       "1072  20190927  3.064525e+11  1.930504e+11   1.158513e+11  8.654101e+10"
      ]
     },
     "execution_count": 15,
     "metadata": {},
     "output_type": "execute_result"
    }
   ],
   "source": [
    "dt3.tail()"
   ]
  },
  {
   "cell_type": "code",
   "execution_count": 16,
   "metadata": {},
   "outputs": [],
   "source": [
    "dt3.index = idt[\"date\"]"
   ]
  },
  {
   "cell_type": "code",
   "execution_count": 17,
   "metadata": {},
   "outputs": [],
   "source": [
    "# dt3 = dt3.drop(\"date\", axis = 1)"
   ]
  },
  {
   "cell_type": "code",
   "execution_count": 18,
   "metadata": {},
   "outputs": [],
   "source": [
    "# idt = idt.drop(\"date\", axis = 1)\n",
    "# jdt = jdt.drop(\"date\", axis = 1)\n",
    "# sdt = sdt.drop([\"date\"], axis = 1)\n",
    "# gdt = gdt.drop([\"date\"], axis = 1)"
   ]
  },
  {
   "cell_type": "code",
   "execution_count": 19,
   "metadata": {},
   "outputs": [],
   "source": [
    "pd.set_option('max_colwidth', 10000)\n",
    "pd.options.display.float_format = '{:.4f}'.format"
   ]
  },
  {
   "cell_type": "code",
   "execution_count": 20,
   "metadata": {},
   "outputs": [
    {
     "data": {
      "text/plain": [
       "date\n",
       "19970115    13065196400.0000\n",
       "19970215    13224225805.0000\n",
       "19970315    13351217515.0000\n",
       "19970415    13441199380.0000\n",
       "19970515    13595946725.0000\n",
       "                  ...       \n",
       "20190823   304933792321.5000\n",
       "20190830   305104600846.5000\n",
       "20190906   305201068246.5000\n",
       "20190920   306026904221.5000\n",
       "20190927   306452547391.5000\n",
       "Name: apt_sum, Length: 1073, dtype: float64"
      ]
     },
     "execution_count": 20,
     "metadata": {},
     "output_type": "execute_result"
    },
    {
     "data": {
      "image/png": "[encoded data removed]",
      "text/plain": [
       "<Figure size 432x288 with 1 Axes>"
      ]
     },
     "metadata": {
      "needs_background": "light"
     },
     "output_type": "display_data"
    }
   ],
   "source": [
    "dt3[\"apt_sum\"].plot()\n",
    "dt3[\"apt_sum\"]"
   ]
  },
  {
   "cell_type": "code",
   "execution_count": 21,
   "metadata": {},
   "outputs": [
    {
     "name": "stdout",
     "output_type": "stream",
     "text": [
      "<class 'pandas.core.frame.DataFrame'>\n",
      "Int64Index: 1073 entries, 19970115 to 20190927\n",
      "Data columns (total 5 columns):\n",
      "date             1073 non-null int64\n",
      "apt_sum          1073 non-null float64\n",
      "js_price         1073 non-null float64\n",
      "apt_sum_seoul    1073 non-null float64\n",
      "apt_sum_gg       1073 non-null float64\n",
      "dtypes: float64(4), int64(1)\n",
      "memory usage: 50.3 KB\n"
     ]
    }
   ],
   "source": [
    "dt3.info()"
   ]
  },
  {
   "cell_type": "code",
   "execution_count": 22,
   "metadata": {},
   "outputs": [],
   "source": [
    "# prophet 예측 구현\n",
    "from fbprophet import Prophet\n",
    "import pandas as pd"
   ]
  },
  {
   "cell_type": "code",
   "execution_count": 23,
   "metadata": {},
   "outputs": [
    {
     "data": {
      "text/html": [
       "<div>\n",
       "<style scoped>\n",
       "    .dataframe tbody tr th:only-of-type {\n",
       "        vertical-align: middle;\n",
       "    }\n",
       "\n",
       "    .dataframe tbody tr th {\n",
       "        vertical-align: top;\n",
       "    }\n",
       "\n",
       "    .dataframe thead th {\n",
       "        text-align: right;\n",
       "    }\n",
       "</style>\n",
       "<table border=\"1\" class=\"dataframe\">\n",
       "  <thead>\n",
       "    <tr style=\"text-align: right;\">\n",
       "      <th></th>\n",
       "      <th>date</th>\n",
       "      <th>apt_sum</th>\n",
       "      <th>js_price</th>\n",
       "      <th>apt_sum_seoul</th>\n",
       "      <th>apt_sum_gg</th>\n",
       "    </tr>\n",
       "    <tr>\n",
       "      <th>date</th>\n",
       "      <th></th>\n",
       "      <th></th>\n",
       "      <th></th>\n",
       "      <th></th>\n",
       "      <th></th>\n",
       "    </tr>\n",
       "  </thead>\n",
       "  <tbody>\n",
       "    <tr>\n",
       "      <td>19970115</td>\n",
       "      <td>19970115</td>\n",
       "      <td>13065196400.0000</td>\n",
       "      <td>6522966235.0000</td>\n",
       "      <td>6843884275.0000</td>\n",
       "      <td>4413718415.0000</td>\n",
       "    </tr>\n",
       "    <tr>\n",
       "      <td>19970215</td>\n",
       "      <td>19970215</td>\n",
       "      <td>13224225805.0000</td>\n",
       "      <td>6579288085.0000</td>\n",
       "      <td>6910997625.0000</td>\n",
       "      <td>4486885140.0000</td>\n",
       "    </tr>\n",
       "    <tr>\n",
       "      <td>19970315</td>\n",
       "      <td>19970315</td>\n",
       "      <td>13351217515.0000</td>\n",
       "      <td>6643742460.0000</td>\n",
       "      <td>6921145025.0000</td>\n",
       "      <td>4545453470.0000</td>\n",
       "    </tr>\n",
       "    <tr>\n",
       "      <td>19970415</td>\n",
       "      <td>19970415</td>\n",
       "      <td>13441199380.0000</td>\n",
       "      <td>6673001760.0000</td>\n",
       "      <td>6978938775.0000</td>\n",
       "      <td>4567197870.0000</td>\n",
       "    </tr>\n",
       "    <tr>\n",
       "      <td>19970515</td>\n",
       "      <td>19970515</td>\n",
       "      <td>13595946725.0000</td>\n",
       "      <td>6719560750.0000</td>\n",
       "      <td>7105578475.0000</td>\n",
       "      <td>4581848020.0000</td>\n",
       "    </tr>\n",
       "  </tbody>\n",
       "</table>\n",
       "</div>"
      ],
      "text/plain": [
       "              date          apt_sum        js_price   apt_sum_seoul  \\\n",
       "date                                                                  \n",
       "19970115  19970115 13065196400.0000 6522966235.0000 6843884275.0000   \n",
       "19970215  19970215 13224225805.0000 6579288085.0000 6910997625.0000   \n",
       "19970315  19970315 13351217515.0000 6643742460.0000 6921145025.0000   \n",
       "19970415  19970415 13441199380.0000 6673001760.0000 6978938775.0000   \n",
       "19970515  19970515 13595946725.0000 6719560750.0000 7105578475.0000   \n",
       "\n",
       "              apt_sum_gg  \n",
       "date                      \n",
       "19970115 4413718415.0000  \n",
       "19970215 4486885140.0000  \n",
       "19970315 4545453470.0000  \n",
       "19970415 4567197870.0000  \n",
       "19970515 4581848020.0000  "
      ]
     },
     "execution_count": 23,
     "metadata": {},
     "output_type": "execute_result"
    }
   ],
   "source": [
    "dt3.head()"
   ]
  },
  {
   "cell_type": "code",
   "execution_count": 24,
   "metadata": {},
   "outputs": [
    {
     "data": {
      "text/html": [
       "<div>\n",
       "<style scoped>\n",
       "    .dataframe tbody tr th:only-of-type {\n",
       "        vertical-align: middle;\n",
       "    }\n",
       "\n",
       "    .dataframe tbody tr th {\n",
       "        vertical-align: top;\n",
       "    }\n",
       "\n",
       "    .dataframe thead th {\n",
       "        text-align: right;\n",
       "    }\n",
       "</style>\n",
       "<table border=\"1\" class=\"dataframe\">\n",
       "  <thead>\n",
       "    <tr style=\"text-align: right;\">\n",
       "      <th></th>\n",
       "      <th>date</th>\n",
       "      <th>apt_sum</th>\n",
       "    </tr>\n",
       "  </thead>\n",
       "  <tbody>\n",
       "    <tr>\n",
       "      <td>0</td>\n",
       "      <td>19970115</td>\n",
       "      <td>13065196400.0000</td>\n",
       "    </tr>\n",
       "    <tr>\n",
       "      <td>1</td>\n",
       "      <td>19970215</td>\n",
       "      <td>13224225805.0000</td>\n",
       "    </tr>\n",
       "    <tr>\n",
       "      <td>2</td>\n",
       "      <td>19970315</td>\n",
       "      <td>13351217515.0000</td>\n",
       "    </tr>\n",
       "    <tr>\n",
       "      <td>3</td>\n",
       "      <td>19970415</td>\n",
       "      <td>13441199380.0000</td>\n",
       "    </tr>\n",
       "    <tr>\n",
       "      <td>4</td>\n",
       "      <td>19970515</td>\n",
       "      <td>13595946725.0000</td>\n",
       "    </tr>\n",
       "  </tbody>\n",
       "</table>\n",
       "</div>"
      ],
      "text/plain": [
       "       date          apt_sum\n",
       "0  19970115 13065196400.0000\n",
       "1  19970215 13224225805.0000\n",
       "2  19970315 13351217515.0000\n",
       "3  19970415 13441199380.0000\n",
       "4  19970515 13595946725.0000"
      ]
     },
     "execution_count": 24,
     "metadata": {},
     "output_type": "execute_result"
    }
   ],
   "source": [
    "pr_dt = dt3[\"apt_sum\"]\n",
    "pr_dt = pr_dt.reset_index()\n",
    "pr_dt.head()"
   ]
  },
  {
   "cell_type": "code",
   "execution_count": 25,
   "metadata": {},
   "outputs": [],
   "source": [
    "pr_dt[\"date1\"] = pr_dt[\"date\"].astype(str).str[:4] + \"-\" + pr_dt[\"date\"].astype(str).str[4:6] + \"-\" + pr_dt[\"date\"].astype(str).str[6:8]"
   ]
  },
  {
   "cell_type": "code",
   "execution_count": 26,
   "metadata": {},
   "outputs": [
    {
     "data": {
      "text/html": [
       "<div>\n",
       "<style scoped>\n",
       "    .dataframe tbody tr th:only-of-type {\n",
       "        vertical-align: middle;\n",
       "    }\n",
       "\n",
       "    .dataframe tbody tr th {\n",
       "        vertical-align: top;\n",
       "    }\n",
       "\n",
       "    .dataframe thead th {\n",
       "        text-align: right;\n",
       "    }\n",
       "</style>\n",
       "<table border=\"1\" class=\"dataframe\">\n",
       "  <thead>\n",
       "    <tr style=\"text-align: right;\">\n",
       "      <th></th>\n",
       "      <th>y</th>\n",
       "      <th>ds</th>\n",
       "    </tr>\n",
       "  </thead>\n",
       "  <tbody>\n",
       "    <tr>\n",
       "      <td>0</td>\n",
       "      <td>13065196400.0000</td>\n",
       "      <td>1997-01-15</td>\n",
       "    </tr>\n",
       "    <tr>\n",
       "      <td>1</td>\n",
       "      <td>13224225805.0000</td>\n",
       "      <td>1997-02-15</td>\n",
       "    </tr>\n",
       "    <tr>\n",
       "      <td>2</td>\n",
       "      <td>13351217515.0000</td>\n",
       "      <td>1997-03-15</td>\n",
       "    </tr>\n",
       "    <tr>\n",
       "      <td>3</td>\n",
       "      <td>13441199380.0000</td>\n",
       "      <td>1997-04-15</td>\n",
       "    </tr>\n",
       "    <tr>\n",
       "      <td>4</td>\n",
       "      <td>13595946725.0000</td>\n",
       "      <td>1997-05-15</td>\n",
       "    </tr>\n",
       "  </tbody>\n",
       "</table>\n",
       "</div>"
      ],
      "text/plain": [
       "                 y          ds\n",
       "0 13065196400.0000  1997-01-15\n",
       "1 13224225805.0000  1997-02-15\n",
       "2 13351217515.0000  1997-03-15\n",
       "3 13441199380.0000  1997-04-15\n",
       "4 13595946725.0000  1997-05-15"
      ]
     },
     "execution_count": 26,
     "metadata": {},
     "output_type": "execute_result"
    }
   ],
   "source": [
    "pr_dt = pr_dt.rename(columns = {\"date1\":\"ds\", \"apt_sum\":\"y\"})\n",
    "pr_dt = pr_dt.drop(columns=[\"date\"],axis=1)\n",
    "pr_dt.head()"
   ]
  },
  {
   "cell_type": "code",
   "execution_count": 27,
   "metadata": {},
   "outputs": [
    {
     "data": {
      "text/html": [
       "<div>\n",
       "<style scoped>\n",
       "    .dataframe tbody tr th:only-of-type {\n",
       "        vertical-align: middle;\n",
       "    }\n",
       "\n",
       "    .dataframe tbody tr th {\n",
       "        vertical-align: top;\n",
       "    }\n",
       "\n",
       "    .dataframe thead th {\n",
       "        text-align: right;\n",
       "    }\n",
       "</style>\n",
       "<table border=\"1\" class=\"dataframe\">\n",
       "  <thead>\n",
       "    <tr style=\"text-align: right;\">\n",
       "      <th></th>\n",
       "      <th>y</th>\n",
       "      <th>ds</th>\n",
       "    </tr>\n",
       "  </thead>\n",
       "  <tbody>\n",
       "    <tr>\n",
       "      <td>1068</td>\n",
       "      <td>304933792321.5000</td>\n",
       "      <td>2019-08-23</td>\n",
       "    </tr>\n",
       "    <tr>\n",
       "      <td>1069</td>\n",
       "      <td>305104600846.5000</td>\n",
       "      <td>2019-08-30</td>\n",
       "    </tr>\n",
       "    <tr>\n",
       "      <td>1070</td>\n",
       "      <td>305201068246.5000</td>\n",
       "      <td>2019-09-06</td>\n",
       "    </tr>\n",
       "    <tr>\n",
       "      <td>1071</td>\n",
       "      <td>306026904221.5000</td>\n",
       "      <td>2019-09-20</td>\n",
       "    </tr>\n",
       "    <tr>\n",
       "      <td>1072</td>\n",
       "      <td>306452547391.5000</td>\n",
       "      <td>2019-09-27</td>\n",
       "    </tr>\n",
       "  </tbody>\n",
       "</table>\n",
       "</div>"
      ],
      "text/plain": [
       "                     y          ds\n",
       "1068 304933792321.5000  2019-08-23\n",
       "1069 305104600846.5000  2019-08-30\n",
       "1070 305201068246.5000  2019-09-06\n",
       "1071 306026904221.5000  2019-09-20\n",
       "1072 306452547391.5000  2019-09-27"
      ]
     },
     "execution_count": 27,
     "metadata": {},
     "output_type": "execute_result"
    }
   ],
   "source": [
    "pr_dt.tail()"
   ]
  },
  {
   "cell_type": "code",
   "execution_count": 28,
   "metadata": {},
   "outputs": [
    {
     "name": "stdout",
     "output_type": "stream",
     "text": [
      "<class 'pandas.core.frame.DataFrame'>\n",
      "RangeIndex: 1073 entries, 0 to 1072\n",
      "Data columns (total 2 columns):\n",
      "y     1073 non-null float64\n",
      "ds    1073 non-null object\n",
      "dtypes: float64(1), object(1)\n",
      "memory usage: 16.9+ KB\n"
     ]
    }
   ],
   "source": [
    "pr_dt.info()"
   ]
  },
  {
   "cell_type": "code",
   "execution_count": 191,
   "metadata": {},
   "outputs": [],
   "source": [
    "# import pandas as pd\n",
    "# holiday\n",
    "# 2017~ 2018  : https://blog.naver.com/eunasol/221561240390\n",
    "\n",
    "holidays = pd.DataFrame({\n",
    "    'holiday': 'policy',\n",
    "    'ds': pd.to_datetime(['2017-06-19', '2017-08-02','2017-10-24','2017-11-29','2017-12-13',\n",
    "                         '2018-07-05','2018-07-27','2018-09-13']),\n",
    "                        'lower_window': -4,\n",
    "                        'upper_window': 158,})\n",
    "\n",
    "# superbowls = pd.DataFrame({\n",
    "#     'holiday': 'superbowl',\n",
    "#     'ds': pd.to_datetime(['2010-02-07', '2014-02-02', '2016-02-07']),\n",
    "#     'lower_window': 0,\n",
    "#     'upper_window': 1,\n",
    "#   })\n",
    "# holidays = pd.concat((playoffs, superbowls))"
   ]
  },
  {
   "cell_type": "code",
   "execution_count": 192,
   "metadata": {},
   "outputs": [
    {
     "name": "stderr",
     "output_type": "stream",
     "text": [
      "INFO:fbprophet:Disabling daily seasonality. Run prophet with daily_seasonality=True to override this.\n"
     ]
    },
    {
     "data": {
      "text/plain": [
       "<fbprophet.forecaster.Prophet at 0x26b26545ef0>"
      ]
     },
     "execution_count": 192,
     "metadata": {},
     "output_type": "execute_result"
    }
   ],
   "source": [
    "m = Prophet(holidays = holidays)\n",
    "m.fit(pr_dt)"
   ]
  },
  {
   "cell_type": "code",
   "execution_count": 193,
   "metadata": {},
   "outputs": [],
   "source": [
    "future = m.make_future_dataframe(periods = 4, freq='W')"
   ]
  },
  {
   "cell_type": "code",
   "execution_count": 194,
   "metadata": {},
   "outputs": [
    {
     "data": {
      "text/html": [
       "<div>\n",
       "<style scoped>\n",
       "    .dataframe tbody tr th:only-of-type {\n",
       "        vertical-align: middle;\n",
       "    }\n",
       "\n",
       "    .dataframe tbody tr th {\n",
       "        vertical-align: top;\n",
       "    }\n",
       "\n",
       "    .dataframe thead th {\n",
       "        text-align: right;\n",
       "    }\n",
       "</style>\n",
       "<table border=\"1\" class=\"dataframe\">\n",
       "  <thead>\n",
       "    <tr style=\"text-align: right;\">\n",
       "      <th></th>\n",
       "      <th>ds</th>\n",
       "      <th>trend</th>\n",
       "      <th>yhat_lower</th>\n",
       "      <th>yhat_upper</th>\n",
       "      <th>trend_lower</th>\n",
       "      <th>trend_upper</th>\n",
       "      <th>additive_terms</th>\n",
       "      <th>additive_terms_lower</th>\n",
       "      <th>additive_terms_upper</th>\n",
       "      <th>holidays</th>\n",
       "      <th>...</th>\n",
       "      <th>weekly</th>\n",
       "      <th>weekly_lower</th>\n",
       "      <th>weekly_upper</th>\n",
       "      <th>yearly</th>\n",
       "      <th>yearly_lower</th>\n",
       "      <th>yearly_upper</th>\n",
       "      <th>multiplicative_terms</th>\n",
       "      <th>multiplicative_terms_lower</th>\n",
       "      <th>multiplicative_terms_upper</th>\n",
       "      <th>yhat</th>\n",
       "    </tr>\n",
       "  </thead>\n",
       "  <tbody>\n",
       "    <tr>\n",
       "      <td>1072</td>\n",
       "      <td>2019-09-27</td>\n",
       "      <td>306112184990.7426</td>\n",
       "      <td>304599155796.6428</td>\n",
       "      <td>309123245490.7753</td>\n",
       "      <td>306112184990.7426</td>\n",
       "      <td>306112184990.7426</td>\n",
       "      <td>889873360.8762</td>\n",
       "      <td>889873360.8762</td>\n",
       "      <td>889873360.8762</td>\n",
       "      <td>0.0000</td>\n",
       "      <td>...</td>\n",
       "      <td>544798599.4213</td>\n",
       "      <td>544798599.4213</td>\n",
       "      <td>544798599.4213</td>\n",
       "      <td>345074761.4548</td>\n",
       "      <td>345074761.4548</td>\n",
       "      <td>345074761.4548</td>\n",
       "      <td>0.0000</td>\n",
       "      <td>0.0000</td>\n",
       "      <td>0.0000</td>\n",
       "      <td>307002058351.6187</td>\n",
       "    </tr>\n",
       "    <tr>\n",
       "      <td>1073</td>\n",
       "      <td>2019-09-29</td>\n",
       "      <td>306236413490.8093</td>\n",
       "      <td>304105426237.4992</td>\n",
       "      <td>308584981089.6469</td>\n",
       "      <td>306236413490.8093</td>\n",
       "      <td>306236413490.8093</td>\n",
       "      <td>80587024.2446</td>\n",
       "      <td>80587024.2446</td>\n",
       "      <td>80587024.2446</td>\n",
       "      <td>0.0000</td>\n",
       "      <td>...</td>\n",
       "      <td>-262592580.4844</td>\n",
       "      <td>-262592580.4844</td>\n",
       "      <td>-262592580.4844</td>\n",
       "      <td>343179604.7290</td>\n",
       "      <td>343179604.7290</td>\n",
       "      <td>343179604.7290</td>\n",
       "      <td>0.0000</td>\n",
       "      <td>0.0000</td>\n",
       "      <td>0.0000</td>\n",
       "      <td>306317000515.0539</td>\n",
       "    </tr>\n",
       "    <tr>\n",
       "      <td>1074</td>\n",
       "      <td>2019-10-06</td>\n",
       "      <td>306671213241.0425</td>\n",
       "      <td>304408562807.3867</td>\n",
       "      <td>308902593939.5831</td>\n",
       "      <td>306671213241.0425</td>\n",
       "      <td>306671213241.0425</td>\n",
       "      <td>78749196.8731</td>\n",
       "      <td>78749196.8731</td>\n",
       "      <td>78749196.8731</td>\n",
       "      <td>0.0000</td>\n",
       "      <td>...</td>\n",
       "      <td>-262592580.4852</td>\n",
       "      <td>-262592580.4852</td>\n",
       "      <td>-262592580.4852</td>\n",
       "      <td>341341777.3583</td>\n",
       "      <td>341341777.3583</td>\n",
       "      <td>341341777.3583</td>\n",
       "      <td>0.0000</td>\n",
       "      <td>0.0000</td>\n",
       "      <td>0.0000</td>\n",
       "      <td>306749962437.9156</td>\n",
       "    </tr>\n",
       "    <tr>\n",
       "      <td>1075</td>\n",
       "      <td>2019-10-13</td>\n",
       "      <td>307106012991.2759</td>\n",
       "      <td>305000166484.0806</td>\n",
       "      <td>309582567353.2222</td>\n",
       "      <td>307106012991.2759</td>\n",
       "      <td>307106012991.2759</td>\n",
       "      <td>80290304.3094</td>\n",
       "      <td>80290304.3094</td>\n",
       "      <td>80290304.3094</td>\n",
       "      <td>0.0000</td>\n",
       "      <td>...</td>\n",
       "      <td>-262592580.4860</td>\n",
       "      <td>-262592580.4860</td>\n",
       "      <td>-262592580.4860</td>\n",
       "      <td>342882884.7954</td>\n",
       "      <td>342882884.7954</td>\n",
       "      <td>342882884.7954</td>\n",
       "      <td>0.0000</td>\n",
       "      <td>0.0000</td>\n",
       "      <td>0.0000</td>\n",
       "      <td>307186303295.5854</td>\n",
       "    </tr>\n",
       "    <tr>\n",
       "      <td>1076</td>\n",
       "      <td>2019-10-20</td>\n",
       "      <td>307540812741.5093</td>\n",
       "      <td>305230552547.8620</td>\n",
       "      <td>309918409837.5786</td>\n",
       "      <td>307540812741.5093</td>\n",
       "      <td>307540812741.5093</td>\n",
       "      <td>78714498.3914</td>\n",
       "      <td>78714498.3914</td>\n",
       "      <td>78714498.3914</td>\n",
       "      <td>0.0000</td>\n",
       "      <td>...</td>\n",
       "      <td>-262592580.4832</td>\n",
       "      <td>-262592580.4832</td>\n",
       "      <td>-262592580.4832</td>\n",
       "      <td>341307078.8746</td>\n",
       "      <td>341307078.8746</td>\n",
       "      <td>341307078.8746</td>\n",
       "      <td>0.0000</td>\n",
       "      <td>0.0000</td>\n",
       "      <td>0.0000</td>\n",
       "      <td>307619527239.9007</td>\n",
       "    </tr>\n",
       "  </tbody>\n",
       "</table>\n",
       "<p>5 rows × 25 columns</p>\n",
       "</div>"
      ],
      "text/plain": [
       "             ds             trend        yhat_lower        yhat_upper  \\\n",
       "1072 2019-09-27 306112184990.7426 304599155796.6428 309123245490.7753   \n",
       "1073 2019-09-29 306236413490.8093 304105426237.4992 308584981089.6469   \n",
       "1074 2019-10-06 306671213241.0425 304408562807.3867 308902593939.5831   \n",
       "1075 2019-10-13 307106012991.2759 305000166484.0806 309582567353.2222   \n",
       "1076 2019-10-20 307540812741.5093 305230552547.8620 309918409837.5786   \n",
       "\n",
       "           trend_lower       trend_upper  additive_terms  \\\n",
       "1072 306112184990.7426 306112184990.7426  889873360.8762   \n",
       "1073 306236413490.8093 306236413490.8093   80587024.2446   \n",
       "1074 306671213241.0425 306671213241.0425   78749196.8731   \n",
       "1075 307106012991.2759 307106012991.2759   80290304.3094   \n",
       "1076 307540812741.5093 307540812741.5093   78714498.3914   \n",
       "\n",
       "      additive_terms_lower  additive_terms_upper  holidays  ...  \\\n",
       "1072        889873360.8762        889873360.8762    0.0000  ...   \n",
       "1073         80587024.2446         80587024.2446    0.0000  ...   \n",
       "1074         78749196.8731         78749196.8731    0.0000  ...   \n",
       "1075         80290304.3094         80290304.3094    0.0000  ...   \n",
       "1076         78714498.3914         78714498.3914    0.0000  ...   \n",
       "\n",
       "              weekly    weekly_lower    weekly_upper         yearly  \\\n",
       "1072  544798599.4213  544798599.4213  544798599.4213 345074761.4548   \n",
       "1073 -262592580.4844 -262592580.4844 -262592580.4844 343179604.7290   \n",
       "1074 -262592580.4852 -262592580.4852 -262592580.4852 341341777.3583   \n",
       "1075 -262592580.4860 -262592580.4860 -262592580.4860 342882884.7954   \n",
       "1076 -262592580.4832 -262592580.4832 -262592580.4832 341307078.8746   \n",
       "\n",
       "       yearly_lower   yearly_upper  multiplicative_terms  \\\n",
       "1072 345074761.4548 345074761.4548                0.0000   \n",
       "1073 343179604.7290 343179604.7290                0.0000   \n",
       "1074 341341777.3583 341341777.3583                0.0000   \n",
       "1075 342882884.7954 342882884.7954                0.0000   \n",
       "1076 341307078.8746 341307078.8746                0.0000   \n",
       "\n",
       "      multiplicative_terms_lower  multiplicative_terms_upper              yhat  \n",
       "1072                      0.0000                      0.0000 307002058351.6187  \n",
       "1073                      0.0000                      0.0000 306317000515.0539  \n",
       "1074                      0.0000                      0.0000 306749962437.9156  \n",
       "1075                      0.0000                      0.0000 307186303295.5854  \n",
       "1076                      0.0000                      0.0000 307619527239.9007  \n",
       "\n",
       "[5 rows x 25 columns]"
      ]
     },
     "execution_count": 194,
     "metadata": {},
     "output_type": "execute_result"
    }
   ],
   "source": [
    "forecast = m.predict(future)\n",
    "forecast.tail()"
   ]
  },
  {
   "cell_type": "code",
   "execution_count": 195,
   "metadata": {},
   "outputs": [
    {
     "data": {
      "image/png": "[encoded data removed]",
      "text/plain": [
       "<Figure size 720x432 with 1 Axes>"
      ]
     },
     "metadata": {},
     "output_type": "display_data"
    }
   ],
   "source": [
    "fig1 = m.plot(forecast)"
   ]
  },
  {
   "cell_type": "code",
   "execution_count": 196,
   "metadata": {},
   "outputs": [
    {
     "data": {
      "image/png": "[encoded data removed]",
      "text/plain": [
       "<Figure size 648x864 with 4 Axes>"
      ]
     },
     "metadata": {},
     "output_type": "display_data"
    }
   ],
   "source": [
    "fig2 = m.plot_components(forecast)"
   ]
  },
  {
   "cell_type": "code",
   "execution_count": 197,
   "metadata": {},
   "outputs": [
    {
     "data": {
      "text/plain": [
       "0   306808956516.0000\n",
       "1   306926575166.0000\n",
       "2   307048222416.0000\n",
       "3   307193025066.0000\n",
       "Name: apt_sum, dtype: float64"
      ]
     },
     "execution_count": 197,
     "metadata": {},
     "output_type": "execute_result"
    }
   ],
   "source": [
    "# test실제 값 가져오기\n",
    "test = pd.read_csv(\"apt_predict.csv\", index_col=0)\n",
    "test = test[\"apt_sum\"]\n",
    "test.head()"
   ]
  },
  {
   "cell_type": "code",
   "execution_count": 198,
   "metadata": {},
   "outputs": [
    {
     "data": {
      "text/plain": [
       "1073   306317000515.0539\n",
       "1074   306749962437.9156\n",
       "1075   307186303295.5854\n",
       "1076   307619527239.9007\n",
       "Name: yhat, dtype: float64"
      ]
     },
     "execution_count": 198,
     "metadata": {},
     "output_type": "execute_result"
    }
   ],
   "source": [
    "forecast.yhat[-4:]"
   ]
  },
  {
   "cell_type": "code",
   "execution_count": 199,
   "metadata": {},
   "outputs": [
    {
     "data": {
      "text/plain": [
       "-103985675.5444336"
      ]
     },
     "execution_count": 199,
     "metadata": {},
     "output_type": "execute_result"
    }
   ],
   "source": [
    "forecast.yhat[-4:].sum() - test.sum()"
   ]
  },
  {
   "cell_type": "code",
   "execution_count": null,
   "metadata": {},
   "outputs": [],
   "source": []
  }
 ],
 "metadata": {
  "kernelspec": {
   "display_name": "Python 3",
   "language": "python",
   "name": "python3"
  },
  "language_info": {
   "codemirror_mode": {
    "name": "ipython",
    "version": 3
   },
   "file_extension": ".py",
   "mimetype": "text/x-python",
   "name": "python",
   "nbconvert_exporter": "python",
   "pygments_lexer": "ipython3",
   "version": "3.7.3"
  }
 },
 "nbformat": 4,
 "nbformat_minor": 2
}
