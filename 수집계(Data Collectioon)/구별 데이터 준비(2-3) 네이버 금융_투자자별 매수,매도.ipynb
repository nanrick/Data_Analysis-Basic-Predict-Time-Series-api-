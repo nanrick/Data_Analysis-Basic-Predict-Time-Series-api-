{
 "cells": [
  {
   "cell_type": "code",
   "execution_count": 4,
   "metadata": {},
   "outputs": [],
   "source": [
    "import pandas as pd\n",
    "import datetime\n",
    "from datetime import timedelta\n",
    "from tqdm import tqdm_notebook\n",
    "\n",
    "def get_naver_fd(i,j): \n",
    "    url = j\n",
    "\n",
    "    # # 일자 데이터를 담을 df라는 DataFrame 정의 \n",
    "    df = pd.DataFrame() # 1페이지에서 1000페이지의 데이터만 가져오기 \n",
    "\n",
    "    for page in range(1,1000): \n",
    "        pg_url = '{url}&page={page}'.format(url=url, page=page) \n",
    "        df = df.append(pd.read_html(pg_url, header=0)[0], ignore_index=True) \n",
    "\n",
    "    # df.dropna()를 이용해 결측값 있는 행 제거 \n",
    "    df = df.dropna() \n",
    "\n",
    "    #컬럼명 중복 로드건 제거\n",
    "    df = df[df[\"날짜\"] != '날짜']\n",
    "\n",
    "    # 컬럼명 정비 (기관.1~5 = > 세부 명칭대로 변경)\n",
    "    if i == 0:\n",
    "        df.columns = ['Date',\"kospi_개인\",'kospi_외국인','kospi_기관총계','kospi_금융투자','kospi_보험','kospi_투신(사모)','kospi_은행','kospi_기타금융기관','kospi_연기금등','kospi_기타법인']\n",
    "    elif i == 1:\n",
    "        df.columns = ['Date',\"kosdaq_개인\",'kosdaq_외국인','kosdaq_기관총계','kosdaq_금융투자','kosdaq_보험','kosdaq_투신(사모)','kosdaq_은행','kosdaq_기타금융기관','kosdaq_연기금등','kosdaq_기타법인']\n",
    "    elif i == 2:\n",
    "        df.columns = ['Date',\"선물_개인\",'선물_외국인','선물_기관총계','선물_금융투자','선물_보험','선물_투신(사모)','선물_은행','선물_기타금융기관','선물_연기금등','선물_기타법인']\n",
    "\n",
    "    # 날짜 형식 수정\n",
    "    df[\"Date\"] = '20' + df[\"Date\"].str.split('.').str[0] + '-' + df[\"Date\"].str.split('.').str[1] + '-' + df[\"Date\"].str.split('.').str[2]\n",
    "    df = df.sort_values([\"Date\"])\n",
    "    df = df.reset_index(drop=True)\n",
    "    df = df.drop_duplicates(keep=False)\n",
    "\n",
    "\n",
    "    for i in tqdm_notebook(range(1, len(df.columns[1:])+1)):\n",
    "        df_1 = df.iloc[:,[0,i]]\n",
    "        df_1[\"Date\"] = pd.to_datetime(df_1[\"Date\"])\n",
    "        df_1.iloc[:,1] = df_1.iloc[:,1].astype(int)\n",
    "\n",
    "        # 매수(+) 주간단위 집계\n",
    "        df_1_1 = df_1[df_1.iloc[:,1] >= 0]\n",
    "        df_1_1_2 = df_1_1.groupby(pd.Grouper(key='Date', freq='W'))[df_1_1.columns[1]].sum().reset_index()\n",
    "        df_1_1_2.columns.values[1] = df_1_1_2.columns.values[1] + \"_매수총계\"\n",
    "        df_1_1_2[\"Date\"] = df_1_1_2[\"Date\"] - timedelta(days=2)\n",
    "        df_1_1_2.to_csv(\"D:\\\\시세모니터링\\\\융합분석\\\\DATA\\\\\" + datetime.datetime.now().isoformat()[:10].replace(\"-\",\"\") + \"\\\\\"+ df_1_1_2.columns.values[1] +\".csv\", index=False)\n",
    "        print(df_1_1_2.columns.values[1], \" 완료\")\n",
    "\n",
    "        # 매도(-) 주간단위 집계\n",
    "        df_1_2 = df_1[df_1.iloc[:,1] < 0]\n",
    "        df_1_2_2 = df_1_2.groupby(pd.Grouper(key='Date', freq='W'))[df_1_2.columns[1]].sum().reset_index()\n",
    "        df_1_2_2.columns.values[1] = df_1_2_2.columns.values[1] + \"_매도총계\"\n",
    "        df_1_2_2[\"Date\"] = df_1_2_2[\"Date\"] - timedelta(days=2)\n",
    "        df_1_2_2.to_csv(\"D:\\\\시세모니터링\\\\융합분석\\\\DATA\\\\\" + datetime.datetime.now().isoformat()[:10].replace(\"-\",\"\") + \"\\\\\"+ df_1_2_2.columns.values[1] +\".csv\", index=False)\n",
    "        print(df_1_1_2.columns.values[1], \" 완료\")\n",
    "    #     df1_mg.to_csv(\"D:\\\\시세모니터링\\\\융합분석\\\\DATA\\\\\" + datetime.datetime.now().isoformat()[:10].replace(\"-\",\"\") + \"\\\\\"+ \"kr_bs_rate\"+\".csv\", index=False)\n",
    "\n",
    "        del df_1_2_2\n",
    "        del df_1_1_2\n",
    "        del df_1_2\n",
    "        del df_1"
   ]
  },
  {
   "cell_type": "code",
   "execution_count": 5,
   "metadata": {},
   "outputs": [],
   "source": [
    "import datetime\n",
    "url_list = [\n",
    "    'https://finance.naver.com/sise/investorDealTrendDay.nhn?bizdate=' + datetime.datetime.now().isoformat()[:10].replace(\"-\",\"\") + '&sosok=',\n",
    "    'https://finance.naver.com/sise/investorDealTrendDay.nhn?bizdate=' + datetime.datetime.now().isoformat()[:10].replace(\"-\",\"\") + '&sosok=02',\n",
    "    'https://finance.naver.com/sise/investorDealTrendDay.nhn?bizdate=' + datetime.datetime.now().isoformat()[:10].replace(\"-\",\"\") + '&sosok=03'\n",
    "]"
   ]
  },
  {
   "cell_type": "code",
   "execution_count": 6,
   "metadata": {},
   "outputs": [
    {
     "name": "stderr",
     "output_type": "stream",
     "text": [
      "c:\\users\\jhpark1\\anaconda3\\envs\\tc\\lib\\site-packages\\ipykernel_launcher.py:37: TqdmDeprecationWarning: This function will be removed in tqdm==5.0.0\n",
      "Please use `tqdm.notebook.tqdm` instead of `tqdm.tqdm_notebook`\n"
     ]
    },
    {
     "data": {
      "application/vnd.jupyter.widget-view+json": {
       "model_id": "aca924acf86e43ec86c1d85ef3086e14",
       "version_major": 2,
       "version_minor": 0
      },
      "text/plain": [
       "HBox(children=(FloatProgress(value=0.0, max=10.0), HTML(value='')))"
      ]
     },
     "metadata": {},
     "output_type": "display_data"
    },
    {
     "name": "stderr",
     "output_type": "stream",
     "text": [
      "c:\\users\\jhpark1\\anaconda3\\envs\\tc\\lib\\site-packages\\ipykernel_launcher.py:39: SettingWithCopyWarning: \n",
      "A value is trying to be set on a copy of a slice from a DataFrame.\n",
      "Try using .loc[row_indexer,col_indexer] = value instead\n",
      "\n",
      "See the caveats in the documentation: https://pandas.pydata.org/pandas-docs/stable/user_guide/indexing.html#returning-a-view-versus-a-copy\n"
     ]
    },
    {
     "name": "stdout",
     "output_type": "stream",
     "text": [
      "\n"
     ]
    },
    {
     "data": {
      "application/vnd.jupyter.widget-view+json": {
       "model_id": "caa85e119ea740dd83ad3bdf7f60650c",
       "version_major": 2,
       "version_minor": 0
      },
      "text/plain": [
       "HBox(children=(FloatProgress(value=0.0, max=10.0), HTML(value='')))"
      ]
     },
     "metadata": {},
     "output_type": "display_data"
    },
    {
     "name": "stdout",
     "output_type": "stream",
     "text": [
      "\n"
     ]
    },
    {
     "data": {
      "application/vnd.jupyter.widget-view+json": {
       "model_id": "d0d1f873509d46ad95543f7d651800a4",
       "version_major": 2,
       "version_minor": 0
      },
      "text/plain": [
       "HBox(children=(FloatProgress(value=0.0, max=10.0), HTML(value='')))"
      ]
     },
     "metadata": {},
     "output_type": "display_data"
    },
    {
     "name": "stdout",
     "output_type": "stream",
     "text": [
      "\n"
     ]
    }
   ],
   "source": [
    "for i,j in enumerate(tqdm_notebook(url_list)):\n",
    "    get_naver_fd(i,j) "
   ]
  }
 ],
 "metadata": {
  "kernelspec": {
   "display_name": "Python 3",
   "language": "python",
   "name": "python3"
  },
  "language_info": {
   "codemirror_mode": {
    "name": "ipython",
    "version": 3
   },
   "file_extension": ".py",
   "mimetype": "text/x-python",
   "name": "python",
   "nbconvert_exporter": "python",
   "pygments_lexer": "ipython3",
   "version": "3.6.10"
  }
 },
 "nbformat": 4,
 "nbformat_minor": 4
}
